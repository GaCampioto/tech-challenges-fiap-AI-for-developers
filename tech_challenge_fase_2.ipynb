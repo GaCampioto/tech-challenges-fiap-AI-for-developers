{
  "nbformat": 4,
  "nbformat_minor": 0,
  "metadata": {
    "colab": {
      "provenance": [],
      "authorship_tag": "ABX9TyMtWKWtC81Z2JuZWU+iONWQ",
      "include_colab_link": true
    },
    "kernelspec": {
      "name": "python3",
      "display_name": "Python 3"
    },
    "language_info": {
      "name": "python"
    }
  },
  "cells": [
    {
      "cell_type": "markdown",
      "metadata": {
        "id": "view-in-github",
        "colab_type": "text"
      },
      "source": [
        "<a href=\"https://colab.research.google.com/github/GaCampioto/tech-challenges-fiap-AI-for-developers/blob/main/tech_challenge_fase_2.ipynb\" target=\"_parent\"><img src=\"https://colab.research.google.com/assets/colab-badge.svg\" alt=\"Open In Colab\"/></a>"
      ]
    },
    {
      "cell_type": "markdown",
      "source": [
        "# Algoritmos genéticos - Knapsack problem\n",
        "\n",
        "Dada um container com uma capacidade máxima de peso e um conjunto de itens, cada um com um peso e valor associados. É necessário descobrir qual a melhor combinação de itens para atingir o maior valor dentro da capacidade máxima do container.\n",
        "\n",
        "Para solução vamos implementar um algoritmo genético, utilizando uma geração aleatória de população inicial, seleção por torneio e crossover e mutação pela técnica de one point.\n",
        "\n",
        "Como resultado teremos uma lista com a melhor solução de cada geração e a última geração avaliada."
      ],
      "metadata": {
        "id": "-XzH2gfKcifR"
      }
    },
    {
      "cell_type": "code",
      "source": [
        "# criação da classe para representar os itens que vamos guardar dentro do container\n",
        "\n",
        "class Item:\n",
        "    def __init__(self, id, weight, value):\n",
        "        self.id = id\n",
        "        self.weight = weight\n",
        "        self.value = value\n",
        "\n",
        "    def __str__(self):\n",
        "        return \"id: \" + str(self.id) + \" weight: \" + str(self.weight) + \" value: \" + str(self.value)"
      ],
      "metadata": {
        "id": "3fbUOIrVd_1d"
      },
      "execution_count": 276,
      "outputs": []
    },
    {
      "cell_type": "code",
      "source": [
        "import random\n",
        "\n",
        "# capacidade máxima do container\n",
        "container_capacity = 25.0\n",
        "\n",
        "# parametros do algoritmo genético\n",
        "population_size = 10\n",
        "generation_size = 100\n",
        "mutation_rate = 0.1\n",
        "\n",
        "# criando uma lista de itens com 5-15 itens\n",
        "item_list = []\n",
        "for i in range(1, random.randint(5, 15)):\n",
        "  id, w, v = i, random.randint(1, 10), random.randint(1, 10)\n",
        "  item_list.append(Item(int(id), float(w), float(v)))"
      ],
      "metadata": {
        "id": "adSv6nzkj6hF"
      },
      "execution_count": 277,
      "outputs": []
    },
    {
      "cell_type": "code",
      "source": [
        "# criação de soluções aleatórias com base nos itens disponiveis\n",
        "def create_random_solution(items):\n",
        "    solution = []\n",
        "    for i in range(0, len(items)):\n",
        "        solution.append(random.randint(0, 1))\n",
        "    return solution"
      ],
      "metadata": {
        "id": "B9jNlocDf4F_"
      },
      "execution_count": 278,
      "outputs": []
    },
    {
      "cell_type": "code",
      "source": [
        "# verifica se as soluções criadas atendem os requisitos necessários\n",
        "def valid_solution(items, solutions, limit):\n",
        "    total_weight = 0\n",
        "    for i in range(0, len(items)):\n",
        "        if solutions[i] == 1:\n",
        "            total_weight += items[i].weight\n",
        "        if total_weight > limit:\n",
        "            return False\n",
        "    return True"
      ],
      "metadata": {
        "id": "CpEJUrgWgUWm"
      },
      "execution_count": 279,
      "outputs": []
    },
    {
      "cell_type": "code",
      "source": [
        "# cálculo do peso e valor dos items que estão na solução\n",
        "def calculate_value(items, solutions):\n",
        "    total_value = 0\n",
        "    total_weight = 0\n",
        "    for i in range(0, len(solutions)):\n",
        "        if solutions[i] == 1:\n",
        "            total_value += items[i].value\n",
        "            total_weight += items[i].weight\n",
        "    return total_value, total_weight"
      ],
      "metadata": {
        "id": "Ar1pyS2ngnnP"
      },
      "execution_count": 280,
      "outputs": []
    },
    {
      "cell_type": "code",
      "source": [
        "# validação de soluções duplicadas\n",
        "def check_duplicate_solutions(solutions_1, solutions_2):\n",
        "    for i in range(0, len(solutions_1)):\n",
        "        if solutions_1[i] != solutions_2[i]:\n",
        "            return False\n",
        "    return True"
      ],
      "metadata": {
        "id": "6KffcOvSh7tN"
      },
      "execution_count": 281,
      "outputs": []
    },
    {
      "cell_type": "code",
      "source": [
        "# criação da população inicial utilizando a lista de itens, tamanho da população e capacidade máxima do container\n",
        "def initial_population(pop_size, items, capacity):\n",
        "    population = []\n",
        "    i = 0\n",
        "    while i < pop_size:\n",
        "        new_solution = create_random_solution(items)\n",
        "        if valid_solution(items, new_solution, capacity):\n",
        "            if len(population) == 0:\n",
        "                population.append(new_solution)\n",
        "                i += 1\n",
        "            else:\n",
        "                # validação para ver se a solução criada é repetida, se for pula essa e cria uma nova\n",
        "                skip = False\n",
        "                for j in range(0, len(population)):\n",
        "                    if check_duplicate_solutions(new_solution, population[j]):\n",
        "                        skip = True\n",
        "                        continue\n",
        "                if not skip:\n",
        "                    population.append(new_solution)\n",
        "                    i += 1\n",
        "    return population"
      ],
      "metadata": {
        "id": "72YQd6_aiE_U"
      },
      "execution_count": 282,
      "outputs": []
    },
    {
      "cell_type": "code",
      "source": [
        "# seleção utilização o método de torneio, ou seja, pega duas soluções aleatórias e verifica qual é a melhor\n",
        "def tournament_selection(pop):\n",
        "    ticket_1 = random.randint(0, len(pop) - 1)\n",
        "    ticket_2 = random.randint(0, len(pop) - 1)\n",
        "    value_ticket1, ignored_1 = calculate_value(item_list, pop[ticket_1])\n",
        "    value_ticket2, ignored_2 = calculate_value(item_list, pop[ticket_2])\n",
        "    if value_ticket1 > value_ticket2:\n",
        "        winner = pop[ticket_1]\n",
        "    else:\n",
        "        winner = pop[ticket_2]\n",
        "\n",
        "    return winner"
      ],
      "metadata": {
        "id": "zbyYAFY3jPXJ"
      },
      "execution_count": 283,
      "outputs": []
    },
    {
      "cell_type": "code",
      "source": [
        "# operação de one point crossover, recebe os dois pais e mistura as soluções pegando um pedaço de cada com base em um ponto especifico.\n",
        "def crossover(p_1, p_2):\n",
        "    break_point = random.randint(0, len(p_1))\n",
        "    first_part = p_1[:break_point]\n",
        "    second_part = p_2[break_point:]\n",
        "    child = first_part + second_part\n",
        "    if valid_solution(item_list, child, container_capacity):\n",
        "        return child\n",
        "    else:\n",
        "        return crossover(p_1, p_2)"
      ],
      "metadata": {
        "id": "SLz1AX0_jZj8"
      },
      "execution_count": 284,
      "outputs": []
    },
    {
      "cell_type": "code",
      "source": [
        "# operação de one point mutation\n",
        "def mutation(chromosome):\n",
        "    temp = chromosome\n",
        "    mutation_index_1, mutation_index_2 = random.sample(range(0, len(chromosome)), 2)\n",
        "    temp[mutation_index_1], temp[mutation_index_2] = temp[mutation_index_2], temp[mutation_index_1]\n",
        "\n",
        "    if valid_solution(item_list, temp, container_capacity):\n",
        "        return temp\n",
        "    else:\n",
        "        return mutation(chromosome)"
      ],
      "metadata": {
        "id": "HbmTyfsNkrr-"
      },
      "execution_count": 285,
      "outputs": []
    },
    {
      "cell_type": "code",
      "source": [
        "# criação da próxima geração com base na geração atual\n",
        "# executa a seleção por torneio e realiza o crossover com os vencedores para gerar o filho\n",
        "# em alguns casos, de acordo com um número aleatório, aplica a mutação\n",
        "def create_generation(pop, mut_rate):\n",
        "    new_gen = []\n",
        "    for i in range(0, len(pop)):\n",
        "        parent_1 = tournament_selection(pop)\n",
        "        parent_2 = tournament_selection(pop)\n",
        "        child = crossover(parent_1, parent_2)\n",
        "\n",
        "        if random.random() < mut_rate:\n",
        "            child = mutation(child)\n",
        "\n",
        "        new_gen.append(child)\n",
        "    return new_gen"
      ],
      "metadata": {
        "id": "tDh6KdShktC4"
      },
      "execution_count": 286,
      "outputs": []
    },
    {
      "cell_type": "code",
      "source": [
        "# recupera a melhor solução da geração respeitando o valor\n",
        "def best_solution(generation, items):\n",
        "    best = 0\n",
        "    for i in range(0, len(generation)):\n",
        "        temp, ignored = calculate_value(items, generation[i])\n",
        "        if temp > best:\n",
        "            best = temp\n",
        "    return best"
      ],
      "metadata": {
        "id": "YDBc3uA5lHMK"
      },
      "execution_count": 287,
      "outputs": []
    },
    {
      "cell_type": "code",
      "source": [
        "value_list = []  # lista com as melhores soluções para criação do gráfico final com a melhor solução de cada geração\n",
        "\n",
        "# controle do loop principal do algoritmo genético\n",
        "# criação da população inicial e início do algoritmo\n",
        "# criação de novas gerações até que atinja o tamanho máximo de gerações\n",
        "# armazena a melhor solução da geração na lista de resultados\n",
        "# retorna a última geração e a lista das melhores soluções\n",
        "def genetic_algorithm(capacity, p_size, gen_size, mutation_rate, items):\n",
        "    pop = initial_population(p_size, items, capacity)\n",
        "    for i in range(0, gen_size):\n",
        "        pop = create_generation(pop, mutation_rate)\n",
        "        print(\"melhor solução da geração: \", pop[0])\n",
        "        value, weight = calculate_value(items, pop[0])\n",
        "        print(f\"resultado da solução: valor - {value} peso - {weight}\")\n",
        "        value_list.append(best_solution(pop, items))\n",
        "    return pop, value_list"
      ],
      "metadata": {
        "id": "2mFUxuBRldRe"
      },
      "execution_count": 288,
      "outputs": []
    },
    {
      "cell_type": "code",
      "source": [
        "# geração do gráfico com os resultados\n",
        "import matplotlib.pyplot as plt\n",
        "\n",
        "print(\"==ITENS==\")\n",
        "for i in item_list:\n",
        "    print(\"item: \", i)\n",
        "print(\"capacidade total: \", container_capacity)\n",
        "\n",
        "# última geração ao final da execução do algoritmo e lista com as melhores soluções\n",
        "latest_pop, v_list = genetic_algorithm(capacity=container_capacity,\n",
        "                                       p_size=population_size,\n",
        "                                       gen_size=generation_size,\n",
        "                                       mutation_rate=mutation_rate,\n",
        "                                       items=item_list)\n",
        "print(\"última geração: \", latest_pop)\n",
        "print(\"melhores soluções: \", v_list)\n",
        "# gráfico com os resultados\n",
        "plt.plot(v_list)\n",
        "plt.xlabel('gerações')\n",
        "plt.ylabel('valores')\n",
        "plt.title(\"Valores das soluções ao longo das gerações\")\n",
        "plt.show()"
      ],
      "metadata": {
        "colab": {
          "base_uri": "https://localhost:8080/",
          "height": 1000
        },
        "collapsed": true,
        "id": "zKR14nLPeQbf",
        "outputId": "13a880a1-5687-4086-b6f1-ecdd391bab33"
      },
      "execution_count": 289,
      "outputs": [
        {
          "output_type": "stream",
          "name": "stdout",
          "text": [
            "==ITENS==\n",
            "item:  id: 1 weight: 9.0 value: 4.0\n",
            "item:  id: 2 weight: 6.0 value: 7.0\n",
            "item:  id: 3 weight: 9.0 value: 6.0\n",
            "item:  id: 4 weight: 1.0 value: 4.0\n",
            "item:  id: 5 weight: 3.0 value: 10.0\n",
            "item:  id: 6 weight: 7.0 value: 2.0\n",
            "item:  id: 7 weight: 5.0 value: 8.0\n",
            "item:  id: 8 weight: 1.0 value: 2.0\n",
            "item:  id: 9 weight: 8.0 value: 10.0\n",
            "item:  id: 10 weight: 1.0 value: 9.0\n",
            "item:  id: 11 weight: 5.0 value: 1.0\n",
            "item:  id: 12 weight: 8.0 value: 1.0\n",
            "capacidade total:  25.0\n",
            "melhor solução da geração:  [1, 0, 1, 0, 1, 0, 0, 0, 0, 1, 0, 0]\n",
            "resultado da solução: valor - 29.0 peso - 22.0\n",
            "melhor solução da geração:  [0, 1, 0, 0, 0, 0, 1, 1, 0, 1, 0, 1]\n",
            "resultado da solução: valor - 27.0 peso - 21.0\n",
            "melhor solução da geração:  [0, 0, 1, 0, 1, 0, 1, 1, 0, 1, 0, 0]\n",
            "resultado da solução: valor - 35.0 peso - 19.0\n",
            "melhor solução da geração:  [0, 0, 1, 0, 1, 0, 1, 1, 0, 1, 1, 0]\n",
            "resultado da solução: valor - 36.0 peso - 24.0\n",
            "melhor solução da geração:  [0, 0, 1, 0, 1, 0, 1, 1, 0, 1, 1, 0]\n",
            "resultado da solução: valor - 36.0 peso - 24.0\n",
            "melhor solução da geração:  [0, 0, 1, 0, 1, 0, 1, 1, 0, 1, 1, 0]\n",
            "resultado da solução: valor - 36.0 peso - 24.0\n",
            "melhor solução da geração:  [1, 0, 0, 0, 1, 0, 1, 1, 0, 1, 1, 0]\n",
            "resultado da solução: valor - 34.0 peso - 24.0\n",
            "melhor solução da geração:  [0, 0, 1, 0, 1, 0, 1, 1, 0, 1, 1, 0]\n",
            "resultado da solução: valor - 36.0 peso - 24.0\n",
            "melhor solução da geração:  [0, 0, 1, 0, 1, 0, 1, 1, 0, 1, 1, 0]\n",
            "resultado da solução: valor - 36.0 peso - 24.0\n",
            "melhor solução da geração:  [0, 0, 1, 0, 1, 0, 1, 1, 0, 1, 1, 0]\n",
            "resultado da solução: valor - 36.0 peso - 24.0\n",
            "melhor solução da geração:  [0, 0, 1, 0, 1, 0, 1, 1, 0, 1, 1, 0]\n",
            "resultado da solução: valor - 36.0 peso - 24.0\n",
            "melhor solução da geração:  [0, 0, 1, 0, 1, 0, 1, 1, 0, 1, 1, 0]\n",
            "resultado da solução: valor - 36.0 peso - 24.0\n",
            "melhor solução da geração:  [0, 0, 1, 1, 1, 0, 0, 1, 1, 1, 0, 0]\n",
            "resultado da solução: valor - 41.0 peso - 23.0\n",
            "melhor solução da geração:  [0, 0, 0, 0, 1, 0, 1, 1, 0, 1, 1, 0]\n",
            "resultado da solução: valor - 30.0 peso - 15.0\n",
            "melhor solução da geração:  [0, 0, 1, 0, 1, 0, 1, 1, 0, 1, 1, 0]\n",
            "resultado da solução: valor - 36.0 peso - 24.0\n",
            "melhor solução da geração:  [0, 0, 1, 1, 1, 0, 0, 1, 0, 1, 1, 0]\n",
            "resultado da solução: valor - 32.0 peso - 20.0\n",
            "melhor solução da geração:  [0, 0, 1, 1, 1, 0, 1, 1, 0, 1, 1, 0]\n",
            "resultado da solução: valor - 40.0 peso - 25.0\n",
            "melhor solução da geração:  [0, 0, 1, 1, 1, 0, 1, 1, 0, 1, 1, 0]\n",
            "resultado da solução: valor - 40.0 peso - 25.0\n",
            "melhor solução da geração:  [0, 0, 1, 1, 1, 0, 1, 1, 0, 1, 1, 0]\n",
            "resultado da solução: valor - 40.0 peso - 25.0\n",
            "melhor solução da geração:  [0, 0, 1, 1, 1, 0, 0, 1, 1, 1, 0, 0]\n",
            "resultado da solução: valor - 41.0 peso - 23.0\n",
            "melhor solução da geração:  [0, 0, 1, 1, 1, 0, 0, 1, 1, 1, 0, 0]\n",
            "resultado da solução: valor - 41.0 peso - 23.0\n",
            "melhor solução da geração:  [0, 0, 1, 1, 1, 0, 0, 1, 1, 1, 0, 0]\n",
            "resultado da solução: valor - 41.0 peso - 23.0\n",
            "melhor solução da geração:  [0, 0, 1, 1, 1, 0, 0, 1, 1, 1, 0, 0]\n",
            "resultado da solução: valor - 41.0 peso - 23.0\n",
            "melhor solução da geração:  [0, 0, 1, 1, 1, 0, 0, 1, 1, 1, 0, 0]\n",
            "resultado da solução: valor - 41.0 peso - 23.0\n",
            "melhor solução da geração:  [0, 0, 1, 1, 1, 0, 0, 1, 1, 1, 0, 0]\n",
            "resultado da solução: valor - 41.0 peso - 23.0\n",
            "melhor solução da geração:  [0, 0, 1, 1, 1, 0, 0, 1, 1, 1, 0, 0]\n",
            "resultado da solução: valor - 41.0 peso - 23.0\n",
            "melhor solução da geração:  [0, 0, 1, 1, 1, 0, 0, 1, 1, 1, 0, 0]\n",
            "resultado da solução: valor - 41.0 peso - 23.0\n",
            "melhor solução da geração:  [0, 0, 1, 1, 1, 0, 0, 1, 1, 1, 0, 0]\n",
            "resultado da solução: valor - 41.0 peso - 23.0\n",
            "melhor solução da geração:  [0, 0, 1, 1, 1, 0, 0, 1, 1, 1, 0, 0]\n",
            "resultado da solução: valor - 41.0 peso - 23.0\n",
            "melhor solução da geração:  [0, 0, 1, 1, 1, 0, 0, 1, 1, 1, 0, 0]\n",
            "resultado da solução: valor - 41.0 peso - 23.0\n",
            "melhor solução da geração:  [0, 0, 1, 1, 1, 0, 0, 1, 1, 1, 0, 0]\n",
            "resultado da solução: valor - 41.0 peso - 23.0\n",
            "melhor solução da geração:  [0, 0, 1, 1, 1, 0, 0, 1, 1, 1, 0, 0]\n",
            "resultado da solução: valor - 41.0 peso - 23.0\n",
            "melhor solução da geração:  [0, 0, 1, 1, 1, 0, 0, 1, 1, 1, 0, 0]\n",
            "resultado da solução: valor - 41.0 peso - 23.0\n",
            "melhor solução da geração:  [0, 0, 1, 1, 1, 0, 0, 1, 1, 1, 0, 0]\n",
            "resultado da solução: valor - 41.0 peso - 23.0\n",
            "melhor solução da geração:  [0, 0, 1, 1, 1, 0, 0, 1, 1, 1, 0, 0]\n",
            "resultado da solução: valor - 41.0 peso - 23.0\n",
            "melhor solução da geração:  [0, 0, 1, 1, 0, 0, 0, 1, 1, 1, 0, 0]\n",
            "resultado da solução: valor - 31.0 peso - 20.0\n",
            "melhor solução da geração:  [0, 0, 1, 1, 1, 0, 0, 1, 1, 1, 0, 0]\n",
            "resultado da solução: valor - 41.0 peso - 23.0\n",
            "melhor solução da geração:  [0, 0, 1, 1, 1, 0, 0, 1, 1, 1, 0, 0]\n",
            "resultado da solução: valor - 41.0 peso - 23.0\n",
            "melhor solução da geração:  [0, 0, 1, 1, 1, 0, 0, 1, 1, 1, 0, 0]\n",
            "resultado da solução: valor - 41.0 peso - 23.0\n",
            "melhor solução da geração:  [0, 0, 1, 1, 1, 0, 0, 1, 1, 1, 0, 0]\n",
            "resultado da solução: valor - 41.0 peso - 23.0\n",
            "melhor solução da geração:  [0, 0, 1, 1, 1, 0, 0, 1, 1, 1, 0, 0]\n",
            "resultado da solução: valor - 41.0 peso - 23.0\n",
            "melhor solução da geração:  [0, 0, 1, 1, 1, 0, 0, 1, 1, 1, 0, 0]\n",
            "resultado da solução: valor - 41.0 peso - 23.0\n",
            "melhor solução da geração:  [0, 0, 1, 1, 1, 0, 0, 1, 1, 1, 0, 0]\n",
            "resultado da solução: valor - 41.0 peso - 23.0\n",
            "melhor solução da geração:  [0, 0, 1, 1, 1, 0, 0, 1, 1, 1, 0, 0]\n",
            "resultado da solução: valor - 41.0 peso - 23.0\n",
            "melhor solução da geração:  [0, 0, 1, 1, 1, 0, 0, 1, 1, 1, 0, 0]\n",
            "resultado da solução: valor - 41.0 peso - 23.0\n",
            "melhor solução da geração:  [0, 0, 1, 1, 1, 0, 0, 1, 1, 1, 0, 0]\n",
            "resultado da solução: valor - 41.0 peso - 23.0\n",
            "melhor solução da geração:  [0, 0, 1, 1, 1, 0, 0, 1, 1, 1, 0, 0]\n",
            "resultado da solução: valor - 41.0 peso - 23.0\n",
            "melhor solução da geração:  [0, 0, 1, 1, 1, 0, 0, 1, 1, 1, 0, 0]\n",
            "resultado da solução: valor - 41.0 peso - 23.0\n",
            "melhor solução da geração:  [0, 0, 1, 1, 1, 0, 0, 1, 1, 1, 0, 0]\n",
            "resultado da solução: valor - 41.0 peso - 23.0\n",
            "melhor solução da geração:  [0, 0, 1, 1, 1, 0, 0, 1, 1, 1, 0, 0]\n",
            "resultado da solução: valor - 41.0 peso - 23.0\n",
            "melhor solução da geração:  [0, 0, 1, 1, 1, 0, 0, 1, 1, 1, 0, 0]\n",
            "resultado da solução: valor - 41.0 peso - 23.0\n",
            "melhor solução da geração:  [0, 0, 1, 1, 1, 0, 0, 1, 1, 1, 0, 0]\n",
            "resultado da solução: valor - 41.0 peso - 23.0\n",
            "melhor solução da geração:  [0, 0, 1, 1, 1, 0, 0, 1, 1, 1, 0, 0]\n",
            "resultado da solução: valor - 41.0 peso - 23.0\n",
            "melhor solução da geração:  [0, 0, 1, 1, 1, 0, 0, 1, 1, 1, 0, 0]\n",
            "resultado da solução: valor - 41.0 peso - 23.0\n",
            "melhor solução da geração:  [0, 0, 1, 1, 1, 0, 0, 1, 1, 1, 0, 0]\n",
            "resultado da solução: valor - 41.0 peso - 23.0\n",
            "melhor solução da geração:  [0, 0, 1, 1, 1, 0, 0, 1, 1, 1, 0, 0]\n",
            "resultado da solução: valor - 41.0 peso - 23.0\n",
            "melhor solução da geração:  [0, 0, 1, 1, 1, 0, 0, 1, 1, 1, 0, 0]\n",
            "resultado da solução: valor - 41.0 peso - 23.0\n",
            "melhor solução da geração:  [0, 0, 1, 1, 1, 0, 0, 1, 1, 1, 0, 0]\n",
            "resultado da solução: valor - 41.0 peso - 23.0\n",
            "melhor solução da geração:  [0, 1, 0, 1, 1, 0, 0, 1, 1, 1, 0, 0]\n",
            "resultado da solução: valor - 42.0 peso - 20.0\n",
            "melhor solução da geração:  [0, 0, 1, 1, 1, 0, 0, 1, 1, 1, 0, 0]\n",
            "resultado da solução: valor - 41.0 peso - 23.0\n",
            "melhor solução da geração:  [0, 0, 0, 1, 1, 0, 1, 1, 1, 1, 0, 0]\n",
            "resultado da solução: valor - 43.0 peso - 19.0\n",
            "melhor solução da geração:  [0, 0, 0, 1, 1, 0, 0, 1, 1, 1, 0, 0]\n",
            "resultado da solução: valor - 35.0 peso - 14.0\n",
            "melhor solução da geração:  [0, 1, 0, 1, 1, 0, 0, 1, 1, 1, 0, 0]\n",
            "resultado da solução: valor - 42.0 peso - 20.0\n",
            "melhor solução da geração:  [0, 1, 0, 1, 1, 0, 1, 1, 1, 1, 0, 0]\n",
            "resultado da solução: valor - 50.0 peso - 25.0\n",
            "melhor solução da geração:  [0, 0, 0, 1, 1, 0, 1, 1, 1, 1, 0, 0]\n",
            "resultado da solução: valor - 43.0 peso - 19.0\n",
            "melhor solução da geração:  [0, 0, 0, 1, 1, 0, 1, 1, 1, 1, 0, 0]\n",
            "resultado da solução: valor - 43.0 peso - 19.0\n",
            "melhor solução da geração:  [0, 1, 0, 1, 1, 0, 1, 1, 1, 1, 0, 0]\n",
            "resultado da solução: valor - 50.0 peso - 25.0\n",
            "melhor solução da geração:  [0, 0, 0, 1, 1, 0, 1, 1, 1, 1, 1, 0]\n",
            "resultado da solução: valor - 44.0 peso - 24.0\n",
            "melhor solução da geração:  [0, 1, 0, 1, 1, 0, 0, 1, 1, 1, 1, 0]\n",
            "resultado da solução: valor - 43.0 peso - 25.0\n",
            "melhor solução da geração:  [0, 1, 0, 1, 1, 0, 1, 1, 1, 1, 0, 0]\n",
            "resultado da solução: valor - 50.0 peso - 25.0\n",
            "melhor solução da geração:  [0, 1, 0, 1, 1, 0, 1, 1, 1, 1, 0, 0]\n",
            "resultado da solução: valor - 50.0 peso - 25.0\n",
            "melhor solução da geração:  [0, 1, 0, 1, 1, 0, 1, 1, 1, 1, 0, 0]\n",
            "resultado da solução: valor - 50.0 peso - 25.0\n",
            "melhor solução da geração:  [0, 1, 0, 1, 1, 0, 1, 1, 1, 1, 0, 0]\n",
            "resultado da solução: valor - 50.0 peso - 25.0\n",
            "melhor solução da geração:  [0, 1, 0, 1, 1, 0, 1, 1, 1, 1, 0, 0]\n",
            "resultado da solução: valor - 50.0 peso - 25.0\n",
            "melhor solução da geração:  [0, 1, 0, 1, 1, 0, 1, 1, 1, 1, 0, 0]\n",
            "resultado da solução: valor - 50.0 peso - 25.0\n",
            "melhor solução da geração:  [0, 1, 0, 1, 1, 0, 1, 1, 1, 1, 0, 0]\n",
            "resultado da solução: valor - 50.0 peso - 25.0\n",
            "melhor solução da geração:  [0, 1, 0, 1, 1, 0, 1, 1, 1, 1, 0, 0]\n",
            "resultado da solução: valor - 50.0 peso - 25.0\n",
            "melhor solução da geração:  [0, 1, 0, 1, 1, 0, 1, 1, 1, 1, 0, 0]\n",
            "resultado da solução: valor - 50.0 peso - 25.0\n",
            "melhor solução da geração:  [0, 1, 0, 1, 1, 0, 1, 1, 1, 1, 0, 0]\n",
            "resultado da solução: valor - 50.0 peso - 25.0\n",
            "melhor solução da geração:  [0, 1, 0, 1, 1, 0, 1, 1, 1, 1, 0, 0]\n",
            "resultado da solução: valor - 50.0 peso - 25.0\n",
            "melhor solução da geração:  [0, 1, 0, 1, 1, 0, 1, 1, 1, 1, 0, 0]\n",
            "resultado da solução: valor - 50.0 peso - 25.0\n",
            "melhor solução da geração:  [0, 1, 0, 1, 1, 0, 1, 1, 1, 1, 0, 0]\n",
            "resultado da solução: valor - 50.0 peso - 25.0\n",
            "melhor solução da geração:  [0, 1, 0, 1, 1, 0, 1, 1, 1, 1, 0, 0]\n",
            "resultado da solução: valor - 50.0 peso - 25.0\n",
            "melhor solução da geração:  [0, 1, 0, 1, 1, 0, 1, 1, 1, 1, 0, 0]\n",
            "resultado da solução: valor - 50.0 peso - 25.0\n",
            "melhor solução da geração:  [0, 1, 0, 1, 1, 0, 1, 1, 1, 1, 0, 0]\n",
            "resultado da solução: valor - 50.0 peso - 25.0\n",
            "melhor solução da geração:  [0, 1, 0, 1, 1, 0, 1, 1, 1, 1, 0, 0]\n",
            "resultado da solução: valor - 50.0 peso - 25.0\n",
            "melhor solução da geração:  [0, 1, 0, 1, 1, 0, 1, 1, 1, 1, 0, 0]\n",
            "resultado da solução: valor - 50.0 peso - 25.0\n",
            "melhor solução da geração:  [0, 1, 0, 1, 1, 0, 1, 1, 1, 1, 0, 0]\n",
            "resultado da solução: valor - 50.0 peso - 25.0\n",
            "melhor solução da geração:  [0, 1, 0, 1, 1, 0, 1, 1, 1, 1, 0, 0]\n",
            "resultado da solução: valor - 50.0 peso - 25.0\n",
            "melhor solução da geração:  [0, 1, 0, 1, 1, 0, 1, 1, 1, 1, 0, 0]\n",
            "resultado da solução: valor - 50.0 peso - 25.0\n",
            "melhor solução da geração:  [0, 1, 0, 1, 1, 0, 1, 1, 1, 1, 0, 0]\n",
            "resultado da solução: valor - 50.0 peso - 25.0\n",
            "melhor solução da geração:  [0, 1, 0, 1, 1, 0, 1, 1, 1, 1, 0, 0]\n",
            "resultado da solução: valor - 50.0 peso - 25.0\n",
            "melhor solução da geração:  [0, 1, 0, 1, 1, 0, 1, 1, 1, 1, 0, 0]\n",
            "resultado da solução: valor - 50.0 peso - 25.0\n",
            "melhor solução da geração:  [0, 1, 0, 1, 1, 0, 1, 1, 1, 1, 0, 0]\n",
            "resultado da solução: valor - 50.0 peso - 25.0\n",
            "melhor solução da geração:  [0, 1, 0, 1, 1, 0, 1, 1, 1, 1, 0, 0]\n",
            "resultado da solução: valor - 50.0 peso - 25.0\n",
            "melhor solução da geração:  [0, 1, 0, 1, 1, 0, 1, 1, 1, 1, 0, 0]\n",
            "resultado da solução: valor - 50.0 peso - 25.0\n",
            "melhor solução da geração:  [0, 1, 0, 1, 1, 0, 1, 1, 1, 1, 0, 0]\n",
            "resultado da solução: valor - 50.0 peso - 25.0\n",
            "melhor solução da geração:  [0, 0, 1, 1, 1, 0, 1, 1, 0, 1, 1, 0]\n",
            "resultado da solução: valor - 40.0 peso - 25.0\n",
            "melhor solução da geração:  [0, 1, 0, 1, 1, 0, 1, 1, 1, 1, 0, 0]\n",
            "resultado da solução: valor - 50.0 peso - 25.0\n",
            "melhor solução da geração:  [0, 1, 0, 1, 1, 0, 1, 1, 1, 1, 0, 0]\n",
            "resultado da solução: valor - 50.0 peso - 25.0\n",
            "última geração:  [[0, 1, 0, 1, 1, 0, 1, 1, 1, 1, 0, 0], [0, 1, 0, 1, 1, 0, 1, 1, 1, 1, 0, 0], [0, 1, 0, 1, 1, 0, 1, 1, 1, 1, 0, 0], [0, 1, 0, 1, 1, 0, 1, 1, 1, 1, 0, 0], [0, 1, 0, 1, 1, 0, 1, 1, 1, 1, 0, 0], [0, 1, 0, 1, 1, 0, 1, 1, 1, 1, 0, 0], [0, 1, 0, 1, 1, 0, 1, 1, 1, 1, 0, 0], [0, 1, 0, 1, 1, 0, 1, 1, 1, 1, 0, 0], [0, 1, 0, 1, 1, 0, 1, 1, 1, 1, 0, 0], [0, 1, 0, 1, 1, 0, 1, 1, 1, 1, 0, 0]]\n",
            "melhores soluções:  [36.0, 36.0, 37.0, 36.0, 37.0, 36.0, 36.0, 36.0, 36.0, 36.0, 41.0, 41.0, 41.0, 41.0, 41.0, 41.0, 41.0, 41.0, 41.0, 41.0, 41.0, 41.0, 41.0, 41.0, 41.0, 41.0, 41.0, 41.0, 41.0, 41.0, 41.0, 41.0, 41.0, 41.0, 41.0, 41.0, 41.0, 41.0, 41.0, 41.0, 41.0, 41.0, 41.0, 41.0, 41.0, 41.0, 41.0, 41.0, 41.0, 41.0, 41.0, 41.0, 41.0, 41.0, 41.0, 41.0, 43.0, 43.0, 43.0, 43.0, 43.0, 43.0, 43.0, 50.0, 50.0, 50.0, 50.0, 50.0, 50.0, 50.0, 50.0, 50.0, 50.0, 50.0, 50.0, 50.0, 50.0, 50.0, 50.0, 50.0, 50.0, 50.0, 50.0, 50.0, 50.0, 50.0, 50.0, 50.0, 50.0, 50.0, 50.0, 50.0, 50.0, 50.0, 50.0, 50.0, 50.0, 50.0, 50.0, 50.0]\n"
          ]
        },
        {
          "output_type": "display_data",
          "data": {
            "text/plain": [
              "<Figure size 640x480 with 1 Axes>"
            ],
            "image/png": "[encoded data removed]"
          },
          "metadata": {}
        }
      ]
    },
    {
      "cell_type": "markdown",
      "source": [
        "# Conclusões\n",
        "\n",
        "Com base nos resultados podemos ver que ao longo das gerações os resultados vão melhorando até encontrar um platô, no caso da última geração é possível verificar que esse platô foi alcançado por volta da geração 65."
      ],
      "metadata": {
        "id": "aV4y58mSpPPX"
      }
    }
  ]
}